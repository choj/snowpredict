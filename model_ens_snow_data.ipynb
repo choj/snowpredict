{
 "cells": [
  {
   "cell_type": "code",
   "execution_count": 1,
   "metadata": {
    "collapsed": true
   },
   "outputs": [],
   "source": [
    "# ensemble methods"
   ]
  },
  {
   "cell_type": "code",
   "execution_count": 1,
   "metadata": {
    "collapsed": true
   },
   "outputs": [],
   "source": [
    "import pandas as pd\n",
    "import numpy as np\n",
    "import matplotlib.pyplot as plt"
   ]
  },
  {
   "cell_type": "code",
   "execution_count": 2,
   "metadata": {
    "collapsed": true
   },
   "outputs": [],
   "source": [
    "df = pd.read_pickle('composite_df.pkl')\n",
    "df['time_until_reading_hr'] = 24 - df['time_until_reading_hr']\n",
    "df_g = df.groupby(['day_id', 'st_code'])\n"
   ]
  },
  {
   "cell_type": "code",
   "execution_count": 3,
   "metadata": {},
   "outputs": [
    {
     "data": {
      "text/html": [
       "<div>\n",
       "<style>\n",
       "    .dataframe thead tr:only-child th {\n",
       "        text-align: right;\n",
       "    }\n",
       "\n",
       "    .dataframe thead th {\n",
       "        text-align: left;\n",
       "    }\n",
       "\n",
       "    .dataframe tbody tr th {\n",
       "        vertical-align: top;\n",
       "    }\n",
       "</style>\n",
       "<table border=\"1\" class=\"dataframe\">\n",
       "  <thead>\n",
       "    <tr style=\"text-align: right;\">\n",
       "      <th></th>\n",
       "      <th>st_code</th>\n",
       "      <th>day_id</th>\n",
       "      <th>gate_time</th>\n",
       "      <th>time_until_reading_hr</th>\n",
       "    </tr>\n",
       "  </thead>\n",
       "  <tbody>\n",
       "    <tr>\n",
       "      <th>0</th>\n",
       "      <td>agp</td>\n",
       "      <td>13</td>\n",
       "      <td>2017-01-15 07:57:39</td>\n",
       "      <td>24.0</td>\n",
       "    </tr>\n",
       "    <tr>\n",
       "      <th>1</th>\n",
       "      <td>agp</td>\n",
       "      <td>13</td>\n",
       "      <td>2017-01-15 06:00:45</td>\n",
       "      <td>22.0</td>\n",
       "    </tr>\n",
       "    <tr>\n",
       "      <th>2</th>\n",
       "      <td>agp</td>\n",
       "      <td>13</td>\n",
       "      <td>2017-01-15 04:03:51</td>\n",
       "      <td>20.0</td>\n",
       "    </tr>\n",
       "    <tr>\n",
       "      <th>3</th>\n",
       "      <td>agp</td>\n",
       "      <td>13</td>\n",
       "      <td>2017-01-15 01:58:13</td>\n",
       "      <td>18.0</td>\n",
       "    </tr>\n",
       "    <tr>\n",
       "      <th>4</th>\n",
       "      <td>agp</td>\n",
       "      <td>13</td>\n",
       "      <td>2017-01-15 00:02:26</td>\n",
       "      <td>16.0</td>\n",
       "    </tr>\n",
       "    <tr>\n",
       "      <th>5</th>\n",
       "      <td>agp</td>\n",
       "      <td>14</td>\n",
       "      <td>2017-01-16 06:08:38</td>\n",
       "      <td>22.2</td>\n",
       "    </tr>\n",
       "    <tr>\n",
       "      <th>6</th>\n",
       "      <td>agp</td>\n",
       "      <td>14</td>\n",
       "      <td>2017-01-16 06:05:06</td>\n",
       "      <td>22.0</td>\n",
       "    </tr>\n",
       "    <tr>\n",
       "      <th>7</th>\n",
       "      <td>agp</td>\n",
       "      <td>14</td>\n",
       "      <td>2017-01-16 03:59:29</td>\n",
       "      <td>20.0</td>\n",
       "    </tr>\n",
       "    <tr>\n",
       "      <th>8</th>\n",
       "      <td>agp</td>\n",
       "      <td>14</td>\n",
       "      <td>2017-01-16 02:02:37</td>\n",
       "      <td>18.0</td>\n",
       "    </tr>\n",
       "    <tr>\n",
       "      <th>9</th>\n",
       "      <td>agp</td>\n",
       "      <td>14</td>\n",
       "      <td>2017-01-16 00:09:13</td>\n",
       "      <td>16.2</td>\n",
       "    </tr>\n",
       "    <tr>\n",
       "      <th>10</th>\n",
       "      <td>agp</td>\n",
       "      <td>14</td>\n",
       "      <td>2017-01-16 00:05:45</td>\n",
       "      <td>16.0</td>\n",
       "    </tr>\n",
       "    <tr>\n",
       "      <th>11</th>\n",
       "      <td>agp</td>\n",
       "      <td>14</td>\n",
       "      <td>2017-01-15 22:00:07</td>\n",
       "      <td>14.0</td>\n",
       "    </tr>\n",
       "    <tr>\n",
       "      <th>12</th>\n",
       "      <td>agp</td>\n",
       "      <td>14</td>\n",
       "      <td>2017-01-15 20:07:51</td>\n",
       "      <td>12.2</td>\n",
       "    </tr>\n",
       "    <tr>\n",
       "      <th>13</th>\n",
       "      <td>agp</td>\n",
       "      <td>14</td>\n",
       "      <td>2017-01-15 20:05:32</td>\n",
       "      <td>12.0</td>\n",
       "    </tr>\n",
       "    <tr>\n",
       "      <th>14</th>\n",
       "      <td>agp</td>\n",
       "      <td>14</td>\n",
       "      <td>2017-01-15 17:58:40</td>\n",
       "      <td>10.0</td>\n",
       "    </tr>\n",
       "    <tr>\n",
       "      <th>15</th>\n",
       "      <td>agp</td>\n",
       "      <td>14</td>\n",
       "      <td>2017-01-15 16:01:44</td>\n",
       "      <td>8.0</td>\n",
       "    </tr>\n",
       "    <tr>\n",
       "      <th>16</th>\n",
       "      <td>agp</td>\n",
       "      <td>14</td>\n",
       "      <td>2017-01-15 14:08:16</td>\n",
       "      <td>6.2</td>\n",
       "    </tr>\n",
       "    <tr>\n",
       "      <th>17</th>\n",
       "      <td>agp</td>\n",
       "      <td>14</td>\n",
       "      <td>2017-01-15 14:04:48</td>\n",
       "      <td>6.0</td>\n",
       "    </tr>\n",
       "    <tr>\n",
       "      <th>18</th>\n",
       "      <td>agp</td>\n",
       "      <td>14</td>\n",
       "      <td>2017-01-15 12:00:16</td>\n",
       "      <td>4.0</td>\n",
       "    </tr>\n",
       "    <tr>\n",
       "      <th>19</th>\n",
       "      <td>agp</td>\n",
       "      <td>14</td>\n",
       "      <td>2017-01-15 10:03:19</td>\n",
       "      <td>2.0</td>\n",
       "    </tr>\n",
       "    <tr>\n",
       "      <th>20</th>\n",
       "      <td>agp</td>\n",
       "      <td>15</td>\n",
       "      <td>2017-01-17 05:56:10</td>\n",
       "      <td>22.0</td>\n",
       "    </tr>\n",
       "    <tr>\n",
       "      <th>21</th>\n",
       "      <td>agp</td>\n",
       "      <td>15</td>\n",
       "      <td>2017-01-17 03:59:17</td>\n",
       "      <td>20.0</td>\n",
       "    </tr>\n",
       "    <tr>\n",
       "      <th>22</th>\n",
       "      <td>agp</td>\n",
       "      <td>15</td>\n",
       "      <td>2017-01-17 01:58:56</td>\n",
       "      <td>18.0</td>\n",
       "    </tr>\n",
       "    <tr>\n",
       "      <th>23</th>\n",
       "      <td>agp</td>\n",
       "      <td>15</td>\n",
       "      <td>2017-01-17 00:09:52</td>\n",
       "      <td>16.2</td>\n",
       "    </tr>\n",
       "    <tr>\n",
       "      <th>24</th>\n",
       "      <td>agp</td>\n",
       "      <td>15</td>\n",
       "      <td>2017-01-16 22:07:46</td>\n",
       "      <td>14.2</td>\n",
       "    </tr>\n",
       "    <tr>\n",
       "      <th>25</th>\n",
       "      <td>agp</td>\n",
       "      <td>15</td>\n",
       "      <td>2017-01-16 22:05:27</td>\n",
       "      <td>14.0</td>\n",
       "    </tr>\n",
       "    <tr>\n",
       "      <th>26</th>\n",
       "      <td>agp</td>\n",
       "      <td>15</td>\n",
       "      <td>2017-01-16 19:58:38</td>\n",
       "      <td>12.0</td>\n",
       "    </tr>\n",
       "    <tr>\n",
       "      <th>27</th>\n",
       "      <td>agp</td>\n",
       "      <td>15</td>\n",
       "      <td>2017-01-16 18:01:43</td>\n",
       "      <td>10.0</td>\n",
       "    </tr>\n",
       "    <tr>\n",
       "      <th>28</th>\n",
       "      <td>agp</td>\n",
       "      <td>15</td>\n",
       "      <td>2017-01-16 15:57:13</td>\n",
       "      <td>8.0</td>\n",
       "    </tr>\n",
       "    <tr>\n",
       "      <th>29</th>\n",
       "      <td>agp</td>\n",
       "      <td>15</td>\n",
       "      <td>2017-01-16 14:00:17</td>\n",
       "      <td>6.0</td>\n",
       "    </tr>\n",
       "  </tbody>\n",
       "</table>\n",
       "</div>"
      ],
      "text/plain": [
       "   st_code  day_id           gate_time  time_until_reading_hr\n",
       "0      agp      13 2017-01-15 07:57:39                   24.0\n",
       "1      agp      13 2017-01-15 06:00:45                   22.0\n",
       "2      agp      13 2017-01-15 04:03:51                   20.0\n",
       "3      agp      13 2017-01-15 01:58:13                   18.0\n",
       "4      agp      13 2017-01-15 00:02:26                   16.0\n",
       "5      agp      14 2017-01-16 06:08:38                   22.2\n",
       "6      agp      14 2017-01-16 06:05:06                   22.0\n",
       "7      agp      14 2017-01-16 03:59:29                   20.0\n",
       "8      agp      14 2017-01-16 02:02:37                   18.0\n",
       "9      agp      14 2017-01-16 00:09:13                   16.2\n",
       "10     agp      14 2017-01-16 00:05:45                   16.0\n",
       "11     agp      14 2017-01-15 22:00:07                   14.0\n",
       "12     agp      14 2017-01-15 20:07:51                   12.2\n",
       "13     agp      14 2017-01-15 20:05:32                   12.0\n",
       "14     agp      14 2017-01-15 17:58:40                   10.0\n",
       "15     agp      14 2017-01-15 16:01:44                    8.0\n",
       "16     agp      14 2017-01-15 14:08:16                    6.2\n",
       "17     agp      14 2017-01-15 14:04:48                    6.0\n",
       "18     agp      14 2017-01-15 12:00:16                    4.0\n",
       "19     agp      14 2017-01-15 10:03:19                    2.0\n",
       "20     agp      15 2017-01-17 05:56:10                   22.0\n",
       "21     agp      15 2017-01-17 03:59:17                   20.0\n",
       "22     agp      15 2017-01-17 01:58:56                   18.0\n",
       "23     agp      15 2017-01-17 00:09:52                   16.2\n",
       "24     agp      15 2017-01-16 22:07:46                   14.2\n",
       "25     agp      15 2017-01-16 22:05:27                   14.0\n",
       "26     agp      15 2017-01-16 19:58:38                   12.0\n",
       "27     agp      15 2017-01-16 18:01:43                   10.0\n",
       "28     agp      15 2017-01-16 15:57:13                    8.0\n",
       "29     agp      15 2017-01-16 14:00:17                    6.0"
      ]
     },
     "execution_count": 3,
     "metadata": {},
     "output_type": "execute_result"
    }
   ],
   "source": [
    "# just check that every thing is ordered\n",
    "df[['st_code','day_id','gate_time','time_until_reading_hr']].head(30)"
   ]
  },
  {
   "cell_type": "markdown",
   "metadata": {},
   "source": [
    "kill reflectivity data below 12 dB, which is likely noise"
   ]
  },
  {
   "cell_type": "code",
   "execution_count": 4,
   "metadata": {
    "collapsed": true
   },
   "outputs": [],
   "source": [
    "# exp1 if cond else exp2\n",
    "affected = ('refl_2000', 'refl_3000', 'refl_4000', 'refl_5000', 'refl_6000')\n",
    "for col in affected:\n",
    "    df[col].apply(lambda ref: 0 if ref < 12 else ref)\n"
   ]
  },
  {
   "cell_type": "markdown",
   "metadata": {},
   "source": [
    "get simple means"
   ]
  },
  {
   "cell_type": "code",
   "execution_count": 5,
   "metadata": {},
   "outputs": [
    {
     "data": {
      "text/plain": [
       "Index(['day_id', 'difphase_2000', 'difphase_3000', 'difphase_4000',\n",
       "       'difphase_5000', 'difphase_6000', 'elev_m', 'expected_mm', 'gate_time',\n",
       "       'lat', 'lon', 'r_dist_km', 'r_elev_delta_m', 'refl_2000', 'refl_3000',\n",
       "       'refl_4000', 'refl_5000', 'refl_6000', 'st_code', 'time_until_reading',\n",
       "       'time_until_reading_hr', 'velocity_2000', 'velocity_3000',\n",
       "       'velocity_4000', 'velocity_5000', 'velocity_6000', 'xcorr_ratio_2000',\n",
       "       'xcorr_ratio_3000', 'xcorr_ratio_4000', 'xcorr_ratio_5000',\n",
       "       'xcorr_ratio_6000'],\n",
       "      dtype='object')"
      ]
     },
     "execution_count": 5,
     "metadata": {},
     "output_type": "execute_result"
    }
   ],
   "source": [
    "df.columns"
   ]
  },
  {
   "cell_type": "code",
   "execution_count": 6,
   "metadata": {},
   "outputs": [
    {
     "name": "stdout",
     "output_type": "stream",
     "text": [
      "(723, 31)\n",
      "(722, 31)\n"
     ]
    }
   ],
   "source": [
    "to_df = []\n",
    "dates = []\n",
    "sensors = []\n",
    "for k,grp in df_g:\n",
    "    sensors.append(grp.st_code.iloc[0])\n",
    "    dates.append(grp.gate_time.iloc[0])\n",
    "    to_df.append(grp.mean())\n",
    "\n",
    "df_mean = pd.DataFrame.from_dict(to_df)\n",
    "df_mean['dates'] = pd.Series(dates)\n",
    "df_mean['st_code'] = pd.Series(sensors)  \n",
    "\n",
    "#drop negative snowfall (meltoff)\n",
    "print(df_mean.shape)\n",
    "df_mean = df_mean[df_mean.expected_mm > -40]\n",
    "print(df_mean.shape)\n",
    "\n",
    "# automatically drops non-numeric columns\n",
    "X = df_mean.drop(['day_id','expected_mm', 'time_until_reading', 'time_until_reading_hr', 'dates', 'st_code'], axis=1)\n",
    "y = df_mean['expected_mm'] #- df_mean['expected_mm'].min() +1"
   ]
  },
  {
   "cell_type": "markdown",
   "metadata": {},
   "source": [
    "get weighted means"
   ]
  },
  {
   "cell_type": "code",
   "execution_count": 181,
   "metadata": {
    "collapsed": true
   },
   "outputs": [],
   "source": [
    "# from https://stackoverflow.com/questions/10951341/pandas-dataframe-aggregate-function-using-multiple-columns/35327787#35327787\n",
    "def weighed_average(grp):\n",
    "    return grp._get_numeric_data().multiply(grp['time_until_reading_hr'], axis=0).sum()/grp['time_until_reading_hr'].sum()\n",
    "\n",
    "#df.groupby('SOME_COL').apply(weighed_average)\n",
    "\n",
    "#df_to_wt = df.drop(['time_until_reading', 'gate_time'],axis=1)[['st_code','refl_6000', 'time_until_reading_hr']]\n",
    "df_wt = df.groupby(['day_id','st_code']).apply(weighed_average)\n",
    "X = df_wt.drop(['day_id','expected_mm', 'time_until_reading_hr', 'dates'], axis=1)\n",
    "y = df_wt['expected_mm']\n"
   ]
  },
  {
   "cell_type": "code",
   "execution_count": 36,
   "metadata": {},
   "outputs": [
    {
     "data": {
      "image/png": "[encoded data removed]",
      "text/plain": [
       "<matplotlib.figure.Figure at 0x11d45c5c0>"
      ]
     },
     "metadata": {},
     "output_type": "display_data"
    }
   ],
   "source": [
    "y.hist()\n",
    "plt.show()"
   ]
  },
  {
   "cell_type": "markdown",
   "metadata": {},
   "source": [
    "start modeling"
   ]
  },
  {
   "cell_type": "code",
   "execution_count": 10,
   "metadata": {},
   "outputs": [
    {
     "data": {
      "text/plain": [
       "Index(['difphase_2000', 'difphase_3000', 'difphase_4000', 'difphase_5000',\n",
       "       'difphase_6000', 'elev_m', 'lat', 'lon', 'r_dist_km', 'r_elev_delta_m',\n",
       "       'refl_2000', 'refl_3000', 'refl_4000', 'refl_5000', 'refl_6000',\n",
       "       'velocity_2000', 'velocity_3000', 'velocity_4000', 'velocity_5000',\n",
       "       'velocity_6000', 'xcorr_ratio_2000', 'xcorr_ratio_3000',\n",
       "       'xcorr_ratio_4000', 'xcorr_ratio_5000', 'xcorr_ratio_6000'],\n",
       "      dtype='object')"
      ]
     },
     "execution_count": 10,
     "metadata": {},
     "output_type": "execute_result"
    }
   ],
   "source": [
    "#check columns\n",
    "X.columns"
   ]
  },
  {
   "cell_type": "code",
   "execution_count": 11,
   "metadata": {
    "collapsed": true
   },
   "outputs": [],
   "source": [
    "from sklearn.model_selection import train_test_split\n",
    "\n",
    "X_train, X_test, y_train, y_test = train_test_split(X, y, test_size=0.3, random_state=30)"
   ]
  },
  {
   "cell_type": "markdown",
   "metadata": {},
   "source": [
    "upsample the train set"
   ]
  },
  {
   "cell_type": "code",
   "execution_count": 180,
   "metadata": {
    "collapsed": true
   },
   "outputs": [
    {
     "ename": "KeyError",
     "evalue": "\"['seq_id'] not in index\"",
     "output_type": "error",
     "traceback": [
      "\u001b[0;31m---------------------------------------------------------------------------\u001b[0m",
      "\u001b[0;31mKeyError\u001b[0m                                  Traceback (most recent call last)",
      "\u001b[0;32m<ipython-input-180-990ad7111d85>\u001b[0m in \u001b[0;36m<module>\u001b[0;34m()\u001b[0m\n\u001b[1;32m      1\u001b[0m \u001b[0mdf\u001b[0m\u001b[0;34m[\u001b[0m\u001b[0;34m'bucket'\u001b[0m\u001b[0;34m]\u001b[0m \u001b[0;34m=\u001b[0m \u001b[0mpd\u001b[0m\u001b[0;34m.\u001b[0m\u001b[0mcut\u001b[0m\u001b[0;34m(\u001b[0m\u001b[0mdf\u001b[0m\u001b[0;34m[\u001b[0m\u001b[0;34m'expected_mm'\u001b[0m\u001b[0;34m]\u001b[0m\u001b[0;34m,\u001b[0m \u001b[0mbins\u001b[0m\u001b[0;34m=\u001b[0m\u001b[0;36m7\u001b[0m\u001b[0;34m,\u001b[0m \u001b[0mlabels\u001b[0m\u001b[0;34m=\u001b[0m\u001b[0;32mFalse\u001b[0m\u001b[0;34m)\u001b[0m\u001b[0;34m\u001b[0m\u001b[0m\n\u001b[1;32m      2\u001b[0m \u001b[0;34m\u001b[0m\u001b[0m\n\u001b[0;32m----> 3\u001b[0;31m \u001b[0mtemp_df\u001b[0m \u001b[0;34m=\u001b[0m \u001b[0mdf\u001b[0m\u001b[0;34m[\u001b[0m\u001b[0;34m[\u001b[0m\u001b[0;34m'bucket'\u001b[0m\u001b[0;34m,\u001b[0m \u001b[0;34m'seq_id'\u001b[0m\u001b[0;34m,\u001b[0m \u001b[0;34m'expected_mm'\u001b[0m\u001b[0;34m]\u001b[0m\u001b[0;34m]\u001b[0m\u001b[0;34m.\u001b[0m\u001b[0mdrop_duplicates\u001b[0m\u001b[0;34m(\u001b[0m\u001b[0msubset\u001b[0m\u001b[0;34m=\u001b[0m\u001b[0;34m'seq_id'\u001b[0m\u001b[0;34m)\u001b[0m\u001b[0;34m.\u001b[0m\u001b[0mreset_index\u001b[0m\u001b[0;34m(\u001b[0m\u001b[0mdrop\u001b[0m\u001b[0;34m=\u001b[0m\u001b[0;32mTrue\u001b[0m\u001b[0;34m)\u001b[0m\u001b[0;34m\u001b[0m\u001b[0m\n\u001b[0m\u001b[1;32m      4\u001b[0m \u001b[0mtemp_df\u001b[0m\u001b[0;34m[\u001b[0m\u001b[0;34m'bucket'\u001b[0m\u001b[0;34m]\u001b[0m \u001b[0;34m=\u001b[0m \u001b[0mpd\u001b[0m\u001b[0;34m.\u001b[0m\u001b[0mcut\u001b[0m\u001b[0;34m(\u001b[0m\u001b[0mtemp_df\u001b[0m\u001b[0;34m[\u001b[0m\u001b[0;34m'expected_mm'\u001b[0m\u001b[0;34m]\u001b[0m\u001b[0;34m,\u001b[0m \u001b[0mbins\u001b[0m\u001b[0;34m=\u001b[0m\u001b[0;36m7\u001b[0m\u001b[0;34m,\u001b[0m \u001b[0mlabels\u001b[0m\u001b[0;34m=\u001b[0m\u001b[0;32mFalse\u001b[0m\u001b[0;34m)\u001b[0m\u001b[0;34m\u001b[0m\u001b[0m\n\u001b[1;32m      5\u001b[0m \u001b[0mtemp_df\u001b[0m\u001b[0;34m[\u001b[0m\u001b[0;34m'bucket'\u001b[0m\u001b[0;34m]\u001b[0m\u001b[0;34m.\u001b[0m\u001b[0mvalue_counts\u001b[0m\u001b[0;34m(\u001b[0m\u001b[0;34m)\u001b[0m\u001b[0;34m\u001b[0m\u001b[0m\n",
      "\u001b[0;32m~/anaconda3/lib/python3.6/site-packages/pandas/core/frame.py\u001b[0m in \u001b[0;36m__getitem__\u001b[0;34m(self, key)\u001b[0m\n\u001b[1;32m   1956\u001b[0m         \u001b[0;32mif\u001b[0m \u001b[0misinstance\u001b[0m\u001b[0;34m(\u001b[0m\u001b[0mkey\u001b[0m\u001b[0;34m,\u001b[0m \u001b[0;34m(\u001b[0m\u001b[0mSeries\u001b[0m\u001b[0;34m,\u001b[0m \u001b[0mnp\u001b[0m\u001b[0;34m.\u001b[0m\u001b[0mndarray\u001b[0m\u001b[0;34m,\u001b[0m \u001b[0mIndex\u001b[0m\u001b[0;34m,\u001b[0m \u001b[0mlist\u001b[0m\u001b[0;34m)\u001b[0m\u001b[0;34m)\u001b[0m\u001b[0;34m:\u001b[0m\u001b[0;34m\u001b[0m\u001b[0m\n\u001b[1;32m   1957\u001b[0m             \u001b[0;31m# either boolean or fancy integer index\u001b[0m\u001b[0;34m\u001b[0m\u001b[0;34m\u001b[0m\u001b[0m\n\u001b[0;32m-> 1958\u001b[0;31m             \u001b[0;32mreturn\u001b[0m \u001b[0mself\u001b[0m\u001b[0;34m.\u001b[0m\u001b[0m_getitem_array\u001b[0m\u001b[0;34m(\u001b[0m\u001b[0mkey\u001b[0m\u001b[0;34m)\u001b[0m\u001b[0;34m\u001b[0m\u001b[0m\n\u001b[0m\u001b[1;32m   1959\u001b[0m         \u001b[0;32melif\u001b[0m \u001b[0misinstance\u001b[0m\u001b[0;34m(\u001b[0m\u001b[0mkey\u001b[0m\u001b[0;34m,\u001b[0m \u001b[0mDataFrame\u001b[0m\u001b[0;34m)\u001b[0m\u001b[0;34m:\u001b[0m\u001b[0;34m\u001b[0m\u001b[0m\n\u001b[1;32m   1960\u001b[0m             \u001b[0;32mreturn\u001b[0m \u001b[0mself\u001b[0m\u001b[0;34m.\u001b[0m\u001b[0m_getitem_frame\u001b[0m\u001b[0;34m(\u001b[0m\u001b[0mkey\u001b[0m\u001b[0;34m)\u001b[0m\u001b[0;34m\u001b[0m\u001b[0m\n",
      "\u001b[0;32m~/anaconda3/lib/python3.6/site-packages/pandas/core/frame.py\u001b[0m in \u001b[0;36m_getitem_array\u001b[0;34m(self, key)\u001b[0m\n\u001b[1;32m   2000\u001b[0m             \u001b[0;32mreturn\u001b[0m \u001b[0mself\u001b[0m\u001b[0;34m.\u001b[0m\u001b[0mtake\u001b[0m\u001b[0;34m(\u001b[0m\u001b[0mindexer\u001b[0m\u001b[0;34m,\u001b[0m \u001b[0maxis\u001b[0m\u001b[0;34m=\u001b[0m\u001b[0;36m0\u001b[0m\u001b[0;34m,\u001b[0m \u001b[0mconvert\u001b[0m\u001b[0;34m=\u001b[0m\u001b[0;32mFalse\u001b[0m\u001b[0;34m)\u001b[0m\u001b[0;34m\u001b[0m\u001b[0m\n\u001b[1;32m   2001\u001b[0m         \u001b[0;32melse\u001b[0m\u001b[0;34m:\u001b[0m\u001b[0;34m\u001b[0m\u001b[0m\n\u001b[0;32m-> 2002\u001b[0;31m             \u001b[0mindexer\u001b[0m \u001b[0;34m=\u001b[0m \u001b[0mself\u001b[0m\u001b[0;34m.\u001b[0m\u001b[0mloc\u001b[0m\u001b[0;34m.\u001b[0m\u001b[0m_convert_to_indexer\u001b[0m\u001b[0;34m(\u001b[0m\u001b[0mkey\u001b[0m\u001b[0;34m,\u001b[0m \u001b[0maxis\u001b[0m\u001b[0;34m=\u001b[0m\u001b[0;36m1\u001b[0m\u001b[0;34m)\u001b[0m\u001b[0;34m\u001b[0m\u001b[0m\n\u001b[0m\u001b[1;32m   2003\u001b[0m             \u001b[0;32mreturn\u001b[0m \u001b[0mself\u001b[0m\u001b[0;34m.\u001b[0m\u001b[0mtake\u001b[0m\u001b[0;34m(\u001b[0m\u001b[0mindexer\u001b[0m\u001b[0;34m,\u001b[0m \u001b[0maxis\u001b[0m\u001b[0;34m=\u001b[0m\u001b[0;36m1\u001b[0m\u001b[0;34m,\u001b[0m \u001b[0mconvert\u001b[0m\u001b[0;34m=\u001b[0m\u001b[0;32mTrue\u001b[0m\u001b[0;34m)\u001b[0m\u001b[0;34m\u001b[0m\u001b[0m\n\u001b[1;32m   2004\u001b[0m \u001b[0;34m\u001b[0m\u001b[0m\n",
      "\u001b[0;32m~/anaconda3/lib/python3.6/site-packages/pandas/core/indexing.py\u001b[0m in \u001b[0;36m_convert_to_indexer\u001b[0;34m(self, obj, axis, is_setter)\u001b[0m\n\u001b[1;32m   1229\u001b[0m                 \u001b[0mmask\u001b[0m \u001b[0;34m=\u001b[0m \u001b[0mcheck\u001b[0m \u001b[0;34m==\u001b[0m \u001b[0;34m-\u001b[0m\u001b[0;36m1\u001b[0m\u001b[0;34m\u001b[0m\u001b[0m\n\u001b[1;32m   1230\u001b[0m                 \u001b[0;32mif\u001b[0m \u001b[0mmask\u001b[0m\u001b[0;34m.\u001b[0m\u001b[0many\u001b[0m\u001b[0;34m(\u001b[0m\u001b[0;34m)\u001b[0m\u001b[0;34m:\u001b[0m\u001b[0;34m\u001b[0m\u001b[0m\n\u001b[0;32m-> 1231\u001b[0;31m                     \u001b[0;32mraise\u001b[0m \u001b[0mKeyError\u001b[0m\u001b[0;34m(\u001b[0m\u001b[0;34m'%s not in index'\u001b[0m \u001b[0;34m%\u001b[0m \u001b[0mobjarr\u001b[0m\u001b[0;34m[\u001b[0m\u001b[0mmask\u001b[0m\u001b[0;34m]\u001b[0m\u001b[0;34m)\u001b[0m\u001b[0;34m\u001b[0m\u001b[0m\n\u001b[0m\u001b[1;32m   1232\u001b[0m \u001b[0;34m\u001b[0m\u001b[0m\n\u001b[1;32m   1233\u001b[0m                 \u001b[0;32mreturn\u001b[0m \u001b[0m_values_from_object\u001b[0m\u001b[0;34m(\u001b[0m\u001b[0mindexer\u001b[0m\u001b[0;34m)\u001b[0m\u001b[0;34m\u001b[0m\u001b[0m\n",
      "\u001b[0;31mKeyError\u001b[0m: \"['seq_id'] not in index\""
     ]
    }
   ],
   "source": [
    "df['bucket'] = pd.cut(df['expected_mm'], bins=7, labels=False)\n",
    "\n",
    "temp_df = df[['bucket', 'seq_id', 'expected_mm']].drop_duplicates(subset='seq_id').reset_index(drop=True)\n",
    "temp_df['bucket'] = pd.cut(temp_df['expected_mm'], bins=7, labels=False)\n",
    "temp_df['bucket'].value_counts()\n",
    "\n",
    "temp_df['expected_mm'].hist()\n",
    "plt.show()\n",
    "\n",
    "max_count = temp_df['bucket'].value_counts().max()\n",
    "counts = dict(temp_df['bucket'].value_counts())\n",
    "\n",
    "# must upsample\n",
    "# generate seq_id based upsample temp dataframe \n",
    "# this is used to map out the main dataframe\n",
    "from sklearn.utils import resample\n",
    "\n",
    "\n",
    "upsamples = []\n",
    "for c in counts:\n",
    "    to_be_upsampled = temp_df[temp_df.bucket == c]\n",
    "    #if counts[c] != max_count:\n",
    "    to_be_upsampled = resample(to_be_upsampled, \n",
    "                             replace=True,     # sample with replacement\n",
    "                             n_samples=max_count,    # to match majority class\n",
    "                             random_state=123) \n",
    "    upsamples.append(to_be_upsampled)\n",
    "\n",
    "temp_df_up = pd.concat(upsamples)\n",
    "temp_df_up.sort_values(\"seq_id\", inplace=True)\n",
    "temp_df_up.reset_index(inplace=True, drop=True)\n",
    "del upsamples\n",
    "\n",
    "\n",
    "temp_df_up['bucket'].hist(bins=10)\n",
    "plt.show()\n",
    "\n",
    "# now apply apply temp_df_up to actual dataframe\n",
    "upsamples = []\n",
    "df_b = df.groupby('bucket')\n",
    "for i, bucket_group in df_b:\n",
    "    sequences = temp_df_up[temp_df_up['bucket'] == i]['seq_id']\n",
    "    seq_list = []\n",
    "    g_g = bucket_group.groupby('seq_id')\n",
    "    for seq in sequences:\n",
    "        seq_list.append(g_g.get_group(seq))\n",
    "    upsamples.append(pd.concat(seq_list))\n",
    "df_upsampled = pd.concat(upsamples)\n",
    "\n",
    "df_upsampled.expected_mm.hist()\n",
    "plt.show()\n",
    "# keras class weight"
   ]
  },
  {
   "cell_type": "code",
   "execution_count": 12,
   "metadata": {},
   "outputs": [
    {
     "name": "stdout",
     "output_type": "stream",
     "text": [
      "training xgbr\n",
      "Fitting 2 folds for each of 972 candidates, totalling 1944 fits\n"
     ]
    },
    {
     "name": "stderr",
     "output_type": "stream",
     "text": [
      "[Parallel(n_jobs=1)]: Done 1944 out of 1944 | elapsed:  2.7min finished\n"
     ]
    },
    {
     "name": "stdout",
     "output_type": "stream",
     "text": [
      "XGBRegressor(base_score=0.5, booster='gbtree', colsample_bylevel=1,\n",
      "       colsample_bytree=1, gamma=0, learning_rate=0.07, max_delta_step=0,\n",
      "       max_depth=4, min_child_weight=1, missing=None, n_estimators=100,\n",
      "       n_jobs=-1, nthread=None, objective='reg:linear', random_state=0,\n",
      "       reg_alpha=14, reg_lambda=18, scale_pos_weight=1, seed=None,\n",
      "       silent=True, subsample=0.7)\n",
      "train mae:  5.40688279531\n",
      "test mae:   8.98220969594 \n",
      "\n",
      "training rfr\n",
      "Fitting 2 folds for each of 160 candidates, totalling 320 fits\n"
     ]
    },
    {
     "name": "stderr",
     "output_type": "stream",
     "text": [
      "[Parallel(n_jobs=1)]: Done 320 out of 320 | elapsed:  3.3min finished\n"
     ]
    },
    {
     "name": "stdout",
     "output_type": "stream",
     "text": [
      "RandomForestRegressor(bootstrap=True, criterion='mse', max_depth=18,\n",
      "           max_features=3, max_leaf_nodes=None, min_impurity_decrease=0.0,\n",
      "           min_impurity_split=None, min_samples_leaf=2,\n",
      "           min_samples_split=2, min_weight_fraction_leaf=0.0,\n",
      "           n_estimators=100, n_jobs=-1, oob_score=True, random_state=None,\n",
      "           verbose=0, warm_start=False)\n",
      "train mae:  4.81696307937\n",
      "test mae:   8.76451959542 \n",
      "\n",
      "CPU times: user 5min 10s, sys: 27.1 s, total: 5min 37s\n",
      "Wall time: 5min 55s\n"
     ]
    }
   ],
   "source": [
    "%%time\n",
    "from sklearn.model_selection import GridSearchCV, RandomizedSearchCV\n",
    "from sklearn.ensemble import RandomForestRegressor, GradientBoostingRegressor\n",
    "from sklearn.metrics import mean_absolute_error\n",
    "from xgboost import XGBRegressor\n",
    "\n",
    "param_grid_rf = {'n_estimators':    [100, 200],\n",
    "                 'n_jobs':          [-1],\n",
    "                 'max_features':    [3,4,5,6,7], \n",
    "                 'oob_score':       [True],\n",
    "                 'criterion':       ['mse'],\n",
    "                 'max_depth':       [11,12,18, 20],\n",
    "                 'min_samples_leaf':[1,2,3,4]}\n",
    "\n",
    "param_grid_xgb = {'n_estimators':   [80, 90, 100],\n",
    "                  'n_jobs':         [-1],\n",
    "                  'learning_rate':  [.05,.07,.1, .2], \n",
    "                  'subsample':      [.6, .7, .8],\n",
    "                  'max_depth':      [3,4,5],\n",
    "                  'reg_alpha':      [9,12,14],\n",
    "                  'reg_lambda':     [16,18,22]}\n",
    "\n",
    "models = {\n",
    "    'xgbr': GridSearchCV(XGBRegressor(), param_grid=param_grid_xgb,cv=2, scoring='neg_mean_squared_error', verbose =1),\n",
    "    'rfr': GridSearchCV(RandomForestRegressor(), param_grid=param_grid_rf, cv=2, scoring='neg_mean_squared_error',verbose =1), # slow\n",
    "}\n",
    "# add votingclassifier after param search\n",
    "# http://scikit-learn.org/stable/modules/generated/sklearn.ensemble.VotingClassifier.html\n",
    "\n",
    "for m in models.keys():\n",
    "    print('training ' + m)\n",
    "    models[m].fit(X_train, y_train)\n",
    "    y_pred_train = models[m].predict(X_train)\n",
    "    y_pred = models[m].predict(X_test)\n",
    "\n",
    "    print(models[m].best_estimator_)\n",
    "    print('train mae: ', mean_absolute_error(y_train, y_pred_train))\n",
    "    print('test mae:  ', mean_absolute_error(y_test, y_pred), '\\n')\n"
   ]
  },
  {
   "cell_type": "code",
   "execution_count": 13,
   "metadata": {},
   "outputs": [
    {
     "data": {
      "image/png": "[encoded data removed]",
      "text/plain": [
       "<matplotlib.figure.Figure at 0x118684710>"
      ]
     },
     "metadata": {},
     "output_type": "display_data"
    },
    {
     "name": "stdout",
     "output_type": "stream",
     "text": [
      "2.59613222508\n",
      "8.98689340011\n"
     ]
    }
   ],
   "source": [
    "#xgbr = models['xgbr'].best_estimator_ \n",
    "# best with only positive snowfall\n",
    "xgbr = XGBRegressor(base_score=0.5, booster='gbtree', colsample_bylevel=1,\n",
    "       colsample_bytree=1, gamma=0, learning_rate=0.2, max_delta_step=0,\n",
    "       max_depth=5, min_child_weight=1, missing=None, n_estimators=90,\n",
    "       n_jobs=-1, nthread=None, objective='reg:linear', random_state=0,\n",
    "       reg_alpha=8, reg_lambda=16, scale_pos_weight=1, seed=None,\n",
    "       silent=True, subsample=0.7)\n",
    "\n",
    "# best include meltoff\n",
    "# xgbr = XGBRegressor(base_score=0.5, booster='gbtree', colsample_bylevel=1,\n",
    "#        colsample_bytree=1, gamma=0, learning_rate=0.07, max_delta_step=0,\n",
    "#        max_depth=4, min_child_weight=1, missing=None, n_estimators=100,\n",
    "#        n_jobs=-1, nthread=None, objective='reg:linear', random_state=0,\n",
    "#        reg_alpha=14, reg_lambda=18, scale_pos_weight=1, seed=None,\n",
    "#        silent=True, subsample=0.7)\n",
    "\n",
    "xgbr.fit(X_train, y_train)\n",
    "y_predict = xgbr.predict(X)\n",
    "X_final = df_mean.copy()\n",
    "X_final['predicted_mm'] = y_predict\n",
    "X_final.to_pickle('xgb_results_meltoff.pkl')\n",
    "#X = df_mean.drop(['day_id','expected_mm', 'time_until_reading'], axis=1)\n",
    "#y = df_mean['expected_mm']\n",
    "plt.plot(X_final['expected_mm'], X_final['predicted_mm']-X_final['expected_mm'],'.')\n",
    "plt.ylabel('residual')\n",
    "plt.xlabel('target value (mm of snowfall)')\n",
    "plt.ylim(-100, 100) \n",
    "plt.grid()\n",
    "plt.show()\n",
    "\n",
    "# mae\n",
    "y_predict_train = xgbr.predict(X_train)\n",
    "y_predict_test = xgbr.predict(X_test)\n",
    "print(mean_absolute_error(y_train,y_predict_train))\n",
    "print(mean_absolute_error(y_test,y_predict_test))\n"
   ]
  },
  {
   "cell_type": "code",
   "execution_count": 14,
   "metadata": {},
   "outputs": [
    {
     "data": {
      "image/png": "[encoded data removed]",
      "text/plain": [
       "<matplotlib.figure.Figure at 0x118582e80>"
      ]
     },
     "metadata": {},
     "output_type": "display_data"
    },
    {
     "name": "stdout",
     "output_type": "stream",
     "text": [
      "4.73150558699\n",
      "8.68235385439\n"
     ]
    }
   ],
   "source": [
    "rfr  = models['rfr'].best_estimator_ \n",
    "\n",
    "# rfr = RandomForestRegressor(bootstrap=True, criterion='mse', max_depth=11,\n",
    "#            max_features=3, max_leaf_nodes=None, min_impurity_decrease=0.0,\n",
    "#            min_impurity_split=None, min_samples_leaf=1,\n",
    "#            min_samples_split=2, min_weight_fraction_leaf=0.0,\n",
    "#            n_estimators=100, n_jobs=-1, oob_score=True, random_state=None,\n",
    "#            verbose=0, warm_start=False)\n",
    "\n",
    "rfr.fit(X_train, y_train)\n",
    "y_predict = rfr.predict(X)\n",
    "X_final = df_mean.copy()\n",
    "X_final['predicted_mm'] = y_predict\n",
    "X_final.to_pickle('rf_results.pkl')\n",
    "#X = df_mean.drop(['day_id','expected_mm', 'time_until_reading'], axis=1)\n",
    "#y = df_mean['expected_mm']\n",
    "plt.plot(X_final['expected_mm'], X_final['predicted_mm']-X_final['expected_mm'],'.')\n",
    "plt.ylabel('error (predicted - actual)')\n",
    "plt.xlabel('target value (mm of snowfall)')\n",
    "plt.ylim(-100, 100) \n",
    "plt.grid()\n",
    "plt.show()\n",
    "\n",
    "# mae\n",
    "y_predict_train = rfr.predict(X_train)\n",
    "y_predict_test = rfr.predict(X_test)\n",
    "print(mean_absolute_error(y_train,y_predict_train))\n",
    "print(mean_absolute_error(y_test,y_predict_test))\n"
   ]
  },
  {
   "cell_type": "code",
   "execution_count": 16,
   "metadata": {},
   "outputs": [
    {
     "data": {
      "image/png": "[encoded data removed]",
      "text/plain": [
       "<matplotlib.figure.Figure at 0x1185f8780>"
      ]
     },
     "metadata": {},
     "output_type": "display_data"
    }
   ],
   "source": [
    "# top 15\n",
    "fi_dict = {a[0]:a[1] for a in zip(list(X.columns), list(xgbr.feature_importances_))}\n",
    "features_importance = pd.DataFrame.from_dict(fi_dict, orient='index')\n",
    "\n",
    "fi = features_importance.sort_values(by=[0], ascending=True)\n",
    "fi.iloc[-15:].plot.barh(stacked=True, legend=False, figsize = (4,8), fontsize = 14)\n",
    "plt.xlabel('Feature Importance', fontsize=14)\n",
    "plt.savefig('foo.pdf', bbox_inches='tight')\n",
    "plt.show()"
   ]
  },
  {
   "cell_type": "code",
   "execution_count": 17,
   "metadata": {},
   "outputs": [
    {
     "data": {
      "image/png": "[encoded data removed]",
      "text/plain": [
       "<matplotlib.figure.Figure at 0x1185f82e8>"
      ]
     },
     "metadata": {},
     "output_type": "display_data"
    }
   ],
   "source": [
    "# top 15\n",
    "fi_dict = {a[0]:a[1] for a in zip(list(X.columns), list(xgbr.feature_importances_))}\n",
    "features_importance = pd.DataFrame.from_dict(fi_dict, orient='index')\n",
    "\n",
    "fi = features_importance.sort_values(by=[0], ascending=True)\n",
    "fi.plot.barh(stacked=True, legend=False, figsize = (4,8), fontsize = 14)\n",
    "plt.xlabel('Feature Importance', fontsize=14)\n",
    "plt.savefig('foo.pdf', bbox_inches='tight')\n",
    "plt.show()"
   ]
  },
  {
   "cell_type": "code",
   "execution_count": null,
   "metadata": {
    "collapsed": true
   },
   "outputs": [],
   "source": []
  }
 ],
 "metadata": {
  "kernelspec": {
   "display_name": "Python 3",
   "language": "python",
   "name": "python3"
  },
  "language_info": {
   "codemirror_mode": {
    "name": "ipython",
    "version": 3
   },
   "file_extension": ".py",
   "mimetype": "text/x-python",
   "name": "python",
   "nbconvert_exporter": "python",
   "pygments_lexer": "ipython3",
   "version": "3.6.2"
  }
 },
 "nbformat": 4,
 "nbformat_minor": 2
}
